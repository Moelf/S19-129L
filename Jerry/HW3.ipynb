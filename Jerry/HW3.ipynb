{
 "cells": [
  {
   "cell_type": "code",
   "execution_count": 3,
   "metadata": {},
   "outputs": [],
   "source": [
    "import math\n",
    "import numpy as np\n",
    "from scipy import stats\n",
    "import matplotlib.pyplot as plt"
   ]
  },
  {
   "cell_type": "code",
   "execution_count": 4,
   "metadata": {},
   "outputs": [],
   "source": [
    "def MC1(N):\n",
    "    print(\"N = %d\" % N)\n",
    "    coords = np.random.random((N,2))-0.5 #center at 0\n",
    "    lengths = np.hypot(coords[:,0],coords[:,1])\n",
    "    n = len(list(filter(lambda x: x<0.5, lengths)))\n",
    "    print(\"n = %f\" % n)\n",
    "    our_f = n/N\n",
    "    ourPi = 4.0 * our_f\n",
    "    print(\"ourPi = %.4f\" % ourPi, \"is %.4f %% away.\\n\" % abs( 100*(ourPi - math.pi)/math.pi))\n",
    "    sigma_f = math.sqrt(our_f*(1-our_f)/N)\n",
    "    sigma_pi = 4*sigma_f\n",
    "    rho = (ourPi - math.pi)/sigma_pi\n",
    "    return rho**2"
   ]
  },
  {
   "cell_type": "code",
   "execution_count": 5,
   "metadata": {},
   "outputs": [
    {
     "name": "stdout",
     "output_type": "stream",
     "text": [
      "N = 1000000\n",
      "n = 785061.000000\n",
      "ourPi = 3.1402 is 0.0429 % away.\n",
      "\n",
      "N = 100000\n",
      "n = 78566.000000\n",
      "ourPi = 3.1426 is 0.0333 % away.\n",
      "\n",
      "N = 100\n",
      "n = 74.000000\n",
      "ourPi = 2.9600 is 5.7803 % away.\n",
      "\n",
      "N = 1000\n",
      "n = 791.000000\n",
      "ourPi = 3.1640 is 0.7132 % away.\n",
      "\n",
      "N = 10000\n",
      "n = 7919.000000\n",
      "ourPi = 3.1676 is 0.8278 % away.\n",
      "\n",
      "\n",
      "Chi Squared Probability is 47.446 %\n"
     ]
    }
   ],
   "source": [
    "np.random.seed(387645)\n",
    "ChiSqu = 0\n",
    "for N in{100,1000,10000,100000,1000000}:\n",
    "    ChiSqu += MC1(N)\n",
    "prob = 1 - stats.chi2.cdf(ChiSqu, 5)\n",
    "print(\"\\nChi Squared Probability is %.3f %%\" % (prob*100))"
   ]
  },
  {
   "cell_type": "code",
   "execution_count": null,
   "metadata": {},
   "outputs": [],
   "source": []
  },
  {
   "cell_type": "code",
   "execution_count": 6,
   "metadata": {},
   "outputs": [
    {
     "name": "stdout",
     "output_type": "stream",
     "text": [
      "h = 0.01000000000000000021\n",
      "f'(1) = -1.02010000000000089493\n",
      "h = 0.00100000000000000002\n",
      "f'(1) = -1.00200099999988934130\n",
      "h = 0.00010000000000000000\n",
      "f'(1) = -1.00020000999988978307\n",
      "h = 0.00001000000000000000\n",
      "f'(1) = -1.00002000010655134332\n",
      "h = 0.00000100000000000000\n",
      "f'(1) = -1.00000199991873306438\n",
      "h = 0.00000010000000000000\n",
      "f'(1) = -1.00000020058387750765\n",
      "h = 0.00000001000000000000\n",
      "f'(1) = -1.00000001392252868548\n",
      "h = 0.00000000100000000000\n",
      "f'(1) = -1.00000008474037116457\n",
      "h = 0.00000000010000000000\n",
      "f'(1) = -1.00000008294037101564\n",
      "h = 0.00000000001000000000\n",
      "f'(1) = -1.00000008276037100075\n",
      "h = 0.00000000000100000000\n",
      "f'(1) = -1.00008890058434141146\n",
      "h = 0.00000000000010000000\n",
      "f'(1) = -0.99920072216284050448\n",
      "h = 0.00000000000001000000\n",
      "f'(1) = -0.99920072216266087040\n",
      "h = 0.00000000000000100000\n",
      "f'(1) = -1.11022302462515876087\n",
      "h = 0.00000000000000010000\n",
      "f'(1) = 0.00000000000000000000\n"
     ]
    }
   ],
   "source": [
    "f=lambda x : x**2 * (1-x)\n",
    "def f_prime(x,h):\n",
    "    return (f(x+h)-f(x))/h\n",
    "\n",
    "for i in range(2,17):\n",
    "    h = 10**(-i)\n",
    "    print(\"h = %.20f\" % h)\n",
    "    print(\"f'(1) = %.20f\" % f_prime(1,h))"
   ]
  },
  {
   "cell_type": "code",
   "execution_count": null,
   "metadata": {},
   "outputs": [],
   "source": []
  },
  {
   "cell_type": "code",
   "execution_count": 7,
   "metadata": {},
   "outputs": [],
   "source": [
    "import csv"
   ]
  },
  {
   "cell_type": "code",
   "execution_count": 17,
   "metadata": {},
   "outputs": [
    {
     "data": {
      "text/plain": [
       "([<matplotlib.axis.XTick at 0x7f0138a62780>,\n",
       "  <matplotlib.axis.XTick at 0x7f0138a620f0>,\n",
       "  <matplotlib.axis.XTick at 0x7f0138a60e10>,\n",
       "  <matplotlib.axis.XTick at 0x7f0138a8b2e8>,\n",
       "  <matplotlib.axis.XTick at 0x7f0138a8b898>,\n",
       "  <matplotlib.axis.XTick at 0x7f0138a8bd68>,\n",
       "  <matplotlib.axis.XTick at 0x7f0138a8b710>,\n",
       "  <matplotlib.axis.XTick at 0x7f0138a144a8>,\n",
       "  <matplotlib.axis.XTick at 0x7f0138a14978>,\n",
       "  <matplotlib.axis.XTick at 0x7f0138a14e48>],\n",
       " <a list of 10 Text xticklabel objects>)"
      ]
     },
     "execution_count": 17,
     "metadata": {},
     "output_type": "execute_result"
    },
    {
     "data": {
      "image/png": "[encoded data removed]",
      "text/plain": [
       "<Figure size 432x288 with 1 Axes>"
      ]
     },
     "metadata": {
      "needs_background": "light"
     },
     "output_type": "display_data"
    }
   ],
   "source": [
    "with open('/home/akako/Document/github/S19-129L/Jerry/CensusTownAndCityPopulation.csv', newline='', encoding='utf-8') as f:\n",
    "    reader = list(csv.reader(f))\n",
    "    digits = ''.join([x[2].replace(',','') for x in reader[1::]]) # skip header, remove comma and connect all digits\n",
    "digits = np.array(list(digits)).astype(int)\n",
    "plt.hist(digits, bins=np.arange(0,10,1),align='left')\n",
    "plt.xticks(np.arange(0,10,1))"
   ]
  },
  {
   "cell_type": "code",
   "execution_count": 12,
   "metadata": {
    "scrolled": true
   },
   "outputs": [
    {
     "data": {
      "text/plain": [
       "([<matplotlib.axis.XTick at 0x7f0138e50710>,\n",
       "  <matplotlib.axis.XTick at 0x7f0138e4e780>,\n",
       "  <matplotlib.axis.XTick at 0x7f0138e4e550>,\n",
       "  <matplotlib.axis.XTick at 0x7f0139617128>,\n",
       "  <matplotlib.axis.XTick at 0x7f01396176d8>,\n",
       "  <matplotlib.axis.XTick at 0x7f0139617ba8>,\n",
       "  <matplotlib.axis.XTick at 0x7f0139617b00>,\n",
       "  <matplotlib.axis.XTick at 0x7f01396260b8>,\n",
       "  <matplotlib.axis.XTick at 0x7f0139626668>,\n",
       "  <matplotlib.axis.XTick at 0x7f0139626b38>],\n",
       " <a list of 10 Text xticklabel objects>)"
      ]
     },
     "execution_count": 12,
     "metadata": {},
     "output_type": "execute_result"
    },
    {
     "data": {
      "image/png": "[encoded data removed]",
      "text/plain": [
       "<Figure size 432x288 with 1 Axes>"
      ]
     },
     "metadata": {
      "needs_background": "light"
     },
     "output_type": "display_data"
    }
   ],
   "source": []
  },
  {
   "cell_type": "code",
   "execution_count": null,
   "metadata": {},
   "outputs": [],
   "source": []
  },
  {
   "cell_type": "code",
   "execution_count": 266,
   "metadata": {},
   "outputs": [
    {
     "data": {
      "image/png": "[encoded data removed]",
      "text/plain": [
       "<Figure size 432x288 with 2 Axes>"
      ]
     },
     "metadata": {
      "needs_background": "light"
     },
     "output_type": "display_data"
    }
   ],
   "source": [
    "fig, ax = plt.subplots()\n",
    "dx, dy = 0.01, 0.01\n",
    "nx, ny = 2,5\n",
    "kx, ky = math.pi, math.pi\n",
    "\n",
    "psi = lambda x,y: np.sin(nx*kx*x)*np.sin(ny*ky*y)\n",
    "# generate 2 2d grids for the x & y bounds\n",
    "x,y = np.mgrid[slice(0,1+dx, dx), slice(0, 1+dy, dy)]\n",
    "z = 10*psi(x,y)**2*dx*dy\n",
    "z_min, z_max = -np.abs(z).max(), np.abs(z).max()\n",
    "\n",
    "plt.pcolor(x, y, z, cmap='Blues', vmin=0, vmax=z_max)\n",
    "plt.xlabel(\"X\")\n",
    "plt.ylabel(\"Y\",rotation=0)\n",
    "plt.xticks([0,1],['0','L'])\n",
    "plt.yticks([0,1],['0','L'])\n",
    "plt.title('PDF of $n_x=2$, $n_y = 5$')\n",
    "cbar = plt.colorbar()\n",
    "cbar.set_ticks([0,0.001])\n",
    "cbar.set_ticklabels(['0', 'large'])\n"
   ]
  },
  {
   "cell_type": "code",
   "execution_count": null,
   "metadata": {},
   "outputs": [],
   "source": []
  },
  {
   "cell_type": "code",
   "execution_count": 16,
   "metadata": {},
   "outputs": [
    {
     "data": {
      "image/png": "[encoded data removed]",
      "text/plain": [
       "<Figure size 432x288 with 1 Axes>"
      ]
     },
     "metadata": {
      "needs_background": "light"
     },
     "output_type": "display_data"
    }
   ],
   "source": [
    "N = 10000\n",
    "UniN = np.random.rand(N)\n",
    "t = np.arange(0,1,0.1)\n",
    "pdf = lambda x: N/10 * (1+4*x)/3\n",
    "cdF = lambda x: ((-1/3 + math.sqrt(1/9 + 8*x/3))/4*3)\n",
    "samples = [cdF(x) for x in UniN]\n",
    "plt.hist(samples, bins=np.arange(0,1,0.1),label=\"Hist\")\n",
    "plt.plot(t, pdf(t), 'r-',label=\"PDF\")\n",
    "plt.xticks(np.arange(0,1,0.1))\n",
    "plt.legend()\n",
    "plt.title(\"Sampling vs. pdf scaled\")\n",
    "plt.show()"
   ]
  },
  {
   "cell_type": "code",
   "execution_count": null,
   "metadata": {},
   "outputs": [],
   "source": []
  },
  {
   "cell_type": "code",
   "execution_count": null,
   "metadata": {},
   "outputs": [],
   "source": []
  }
 ],
 "metadata": {
  "kernelspec": {
   "display_name": "Python 3",
   "language": "python",
   "name": "python3"
  },
  "language_info": {
   "codemirror_mode": {
    "name": "ipython",
    "version": 3
   },
   "file_extension": ".py",
   "mimetype": "text/x-python",
   "name": "python",
   "nbconvert_exporter": "python",
   "pygments_lexer": "ipython3",
   "version": "3.7.2"
  }
 },
 "nbformat": 4,
 "nbformat_minor": 2
}
